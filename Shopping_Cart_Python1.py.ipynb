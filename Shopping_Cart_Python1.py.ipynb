{
 "cells": [
  {
   "cell_type": "markdown",
   "id": "4a7e0267",
   "metadata": {},
   "source": [
    "### Build a shopping cart program with the following capabilities:\n",
    "\n",
    "1. Takes in an input\n",
    "2. Stores user input into a dictionary or list\n",
    "3. The User can add or delete items\n",
    "4. The User can see current shopping list\n",
    "5. The program Loops until user 'quits'\n",
    "6. Upon quiting the program, prints out a receipt of the items with total and quantity."
   ]
  },
  {
   "cell_type": "markdown",
   "id": "d1c55988",
   "metadata": {},
   "source": [
    "##### Notes from Brian:\n",
    "- use helper functions to simplify main function:\n",
    "    - make a function that adds\n",
    "    - make a function that removes\n",
    "    - make a function that shows the cart so far\n",
    "    - make a fuction that generates the final receipt (main function?)\n",
    "- can dress it up with nicer inputs, etc"
   ]
  },
  {
   "cell_type": "code",
   "execution_count": null,
   "id": "1d574609",
   "metadata": {},
   "outputs": [],
   "source": []
  },
  {
   "cell_type": "code",
   "execution_count": null,
   "id": "cb253c03",
   "metadata": {},
   "outputs": [],
   "source": []
  }
 ],
 "metadata": {
  "kernelspec": {
   "display_name": "Python 3 (ipykernel)",
   "language": "python",
   "name": "python3"
  },
  "language_info": {
   "codemirror_mode": {
    "name": "ipython",
    "version": 3
   },
   "file_extension": ".py",
   "mimetype": "text/x-python",
   "name": "python",
   "nbconvert_exporter": "python",
   "pygments_lexer": "ipython3",
   "version": "3.9.7"
  }
 },
 "nbformat": 4,
 "nbformat_minor": 5
}
