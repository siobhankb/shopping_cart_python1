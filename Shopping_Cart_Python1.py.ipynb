{
 "cells": [
  {
   "cell_type": "markdown",
   "id": "4a7e0267",
   "metadata": {},
   "source": [
    "### Build a shopping cart program with the following capabilities:\n",
    "\n",
    "1. Takes in an input\n",
    "2. Stores user input into a dictionary or list\n",
    "3. The User can add or delete items\n",
    "4. The User can see current shopping list\n",
    "5. The program Loops until user 'quits'\n",
    "6. Upon quiting the program, prints out a receipt of the items with total and quantity."
   ]
  },
  {
   "cell_type": "markdown",
   "id": "d1c55988",
   "metadata": {},
   "source": [
    "##### Notes from Brian:\n",
    "- use helper functions to simplify main function:\n",
    "    - make a function that adds\n",
    "    - make a function that removes\n",
    "    - make a function that shows the cart so far\n",
    "    - make a fuction that generates the final receipt (main function?)\n",
    "- can dress it up with nicer inputs, etc"
   ]
  },
  {
   "cell_type": "code",
   "execution_count": null,
   "id": "1d574609",
   "metadata": {},
   "outputs": [],
   "source": [
    "# 1. Input(s): \n",
    "# 2. Output(s): \n",
    "# 3a. Constraints: \n",
    "# 3b. Edge cases:\n",
    "# 4. Steps\n",
    "# 5. Pseudocode\n",
    "# 6. Code"
   ]
  },
  {
   "cell_type": "code",
   "execution_count": 13,
   "id": "1efe435d",
   "metadata": {},
   "outputs": [
    {
     "data": {
      "text/plain": [
       "{'bananas': 1.99,\n",
       " 'apples': 4.99,\n",
       " 'bread': 4.69,\n",
       " 'milk': 3.29,\n",
       " 'eggs': 5.69,\n",
       " 'peanut butter': 6.89,\n",
       " 'jelly': 4.78}"
      ]
     },
     "execution_count": 13,
     "metadata": {},
     "output_type": "execute_result"
    }
   ],
   "source": [
    "# Example shopping dictionary:\n",
    "\n",
    "shopping_cart = {\n",
    "    'bananas': 1.99,\n",
    "    'apples': 4.99,\n",
    "    'bread': 4.69,\n",
    "    'milk': 3.29,\n",
    "    'eggs': 5.69,\n",
    "    'peanut butter': 6.89,\n",
    "    'jelly': 4.78\n",
    "}\n",
    "\n",
    "shopping_cart"
   ]
  },
  {
   "cell_type": "code",
   "execution_count": 22,
   "id": "cb253c03",
   "metadata": {},
   "outputs": [],
   "source": [
    "# add items function\n",
    "from IPython.display import clear_output\n",
    "\n",
    "def add_to_shopping(shopping_dict):\n",
    "    add_item = input(\"\\nPlease type the product you want to add: \")\n",
    "    item_price = input(f\"\\nWhat is the price of {add_item}?\")\n",
    "    try:\n",
    "        shopping_dict[add_item] = float(item_price)\n",
    "    except:\n",
    "        print(\"Sorry - that is not a valid price.\")\n",
    "    clear_output()\n",
    "    return shopping_dict"
   ]
  },
  {
   "cell_type": "code",
   "execution_count": 21,
   "id": "cfdea5c5",
   "metadata": {},
   "outputs": [],
   "source": [
    "# see current shopping list\n",
    "\n",
    "def current_shop_list(shopping_dict):\n",
    "    if shopping_dict == {}:\n",
    "        print(\"Your list is empty! Please type 'ADD' to begin building your list...\")\n",
    "    else:\n",
    "        print(\"\\nHere are the items on your shopping list:\\n\")\n",
    "        for key, value in shopping_dict.items():\n",
    "            print(f\"\\t-{key}\")\n"
   ]
  },
  {
   "cell_type": "code",
   "execution_count": 23,
   "id": "decba3fe",
   "metadata": {},
   "outputs": [],
   "source": [
    "#### see current cart items with prices\n",
    "\n",
    "def current_cart(shopping_dict):\n",
    "    total_cost = 0\n",
    "    item_count = 0\n",
    "    print(\n",
    "        \"\\nYour cart:\\n\\nITEMS\", \" \" * 15, \"PRICE\")\n",
    "    for key, value in shopping_dict.items():\n",
    "        print(key, \" \" * (25 - (len(key) + len(str(value)))), value)\n",
    "        total_cost += value\n",
    "        item_count += 1\n",
    "    print(\"\\nTotal Number of Items:\", \"  \", item_count)\n",
    "    print(\"\\nTOTAL:\", \" \" * (18 - (len(str(int(total_cost))) + 3)), f\"${total_cost:.2f}\")"
   ]
  },
  {
   "cell_type": "code",
   "execution_count": 24,
   "id": "7940b006",
   "metadata": {},
   "outputs": [],
   "source": [
    "# delete items from dictionary\n",
    "\n",
    "def delete_item(shopping_dict):\n",
    "    delete_item = input(\"\\nPlease type the item to remove: \").lower()\n",
    "    popped_item = shopping_cart.pop(delete_item, None)\n",
    "    if popped_item != None:\n",
    "        print(f\"Successfully removed -> {delete_item} <- from your list!\")\n",
    "    else:\n",
    "        print(\"Sorry, that item was not found on your list.\")\n",
    "    clear_output()\n",
    "    return shopping_dict"
   ]
  },
  {
   "cell_type": "code",
   "execution_count": 28,
   "id": "a17b492e",
   "metadata": {},
   "outputs": [
    {
     "name": "stdout",
     "output_type": "stream",
     "text": [
      "Thank you for using Shopping List Generator!\n",
      "\n",
      "Your cart:\n",
      "\n",
      "ITEMS                 PRICE\n",
      "celery                 1.99\n",
      "onion                  1.89\n",
      "hamburger             12.99\n",
      "carrots                2.99\n",
      "peas                   1.79\n",
      "corn                   1.59\n",
      "tomato paste           3.89\n",
      "taco seasoning         1.29\n",
      "\n",
      "Total Number of Items:    8\n",
      "\n",
      "TOTAL:               $28.42\n"
     ]
    },
    {
     "data": {
      "text/plain": [
       "{'celery': 1.99,\n",
       " 'onion': 1.89,\n",
       " 'hamburger': 12.99,\n",
       " 'carrots': 2.99,\n",
       " 'peas': 1.79,\n",
       " 'corn': 1.59,\n",
       " 'tomato paste': 3.89,\n",
       " 'taco seasoning': 1.29}"
      ]
     },
     "execution_count": 28,
     "metadata": {},
     "output_type": "execute_result"
    }
   ],
   "source": [
    "def shopping_list(shopping_dict = None):\n",
    "    from IPython.display import clear_output\n",
    "    print(\"Welcome to Shopping List Generator!\")\n",
    "    todo = ''\n",
    "    if shopping_dict == None:\n",
    "        shopping_dict = {}\n",
    "    while todo != 'Q':\n",
    "        todo = input(\n",
    "        \"\\nTo add an item to your list, type 'ADD'\\n \\\n",
    "        To delete an item, type 'DELETE'\\n \\\n",
    "        To view your shopping list, type 'LIST'\\n \\\n",
    "        To view your cart with items and total cost, type 'CART'\\n \\\n",
    "        To clear your list and start again, type 'CLEAR'\\n \\\n",
    "        To end, type 'Q'\\n \\\n",
    "        What would you like to do?  \").upper()\n",
    "        clear_output()\n",
    "        if todo == 'Q':\n",
    "            print(\"Thank you for using Shopping List Generator!\")\n",
    "            break\n",
    "        elif todo == 'CLEAR':\n",
    "            shopping_dict = {}\n",
    "        elif todo == 'ADD':\n",
    "            add_to_shopping(shopping_dict)\n",
    "        elif todo == 'DELETE':\n",
    "            delete_item(shopping_dict)\n",
    "        elif todo == 'LIST':\n",
    "            current_shop_list(shopping_dict)\n",
    "        elif todo == 'CART':\n",
    "            current_cart(shopping_dict)\n",
    "        else:\n",
    "            print(\"I'm sorry - that is not a valid command.\")\n",
    "    \n",
    "    current_cart(shopping_dict)\n",
    "    return shopping_dict\n",
    "\n",
    "shopping_list()"
   ]
  },
  {
   "cell_type": "code",
   "execution_count": null,
   "id": "1a850fcf",
   "metadata": {},
   "outputs": [],
   "source": [
    "ui"
   ]
  }
 ],
 "metadata": {
  "kernelspec": {
   "display_name": "Python 3 (ipykernel)",
   "language": "python",
   "name": "python3"
  },
  "language_info": {
   "codemirror_mode": {
    "name": "ipython",
    "version": 3
   },
   "file_extension": ".py",
   "mimetype": "text/x-python",
   "name": "python",
   "nbconvert_exporter": "python",
   "pygments_lexer": "ipython3",
   "version": "3.9.7"
  }
 },
 "nbformat": 4,
 "nbformat_minor": 5
}
