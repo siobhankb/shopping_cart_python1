{
 "cells": [
  {
   "cell_type": "markdown",
   "id": "4a7e0267",
   "metadata": {},
   "source": [
    "### Build a shopping cart program with the following capabilities:\n",
    "\n",
    "1. Takes in an input\n",
    "2. Stores user input into a dictionary or list\n",
    "3. The User can add or delete items\n",
    "4. The User can see current shopping list\n",
    "5. The program Loops until user 'quits'\n",
    "6. Upon quiting the program, prints out a receipt of the items with total and quantity."
   ]
  },
  {
   "cell_type": "markdown",
   "id": "d1c55988",
   "metadata": {},
   "source": [
    "##### Notes from Brian:\n",
    "- use helper functions to simplify main function:\n",
    "    - make a function that adds\n",
    "    - make a function that removes\n",
    "    - make a function that shows the cart so far\n",
    "    - make a fuction that generates the final receipt (main function?)\n",
    "- can dress it up with nicer inputs, etc"
   ]
  },
  {
   "cell_type": "code",
   "execution_count": null,
   "id": "1d574609",
   "metadata": {},
   "outputs": [],
   "source": [
    "# 1. Input(s): \n",
    "# 2. Output(s): \n",
    "# 3a. Constraints: \n",
    "# 3b. Edge cases:\n",
    "# 4. Steps\n",
    "# 5. Pseudocode\n",
    "# 6. Code"
   ]
  },
  {
   "cell_type": "code",
   "execution_count": 15,
   "id": "4ad1db78",
   "metadata": {},
   "outputs": [
    {
     "data": {
      "text/plain": [
       "{'bananas': 1.99,\n",
       " 'apples': 4.99,\n",
       " 'bread': 4.69,\n",
       " 'milk': 3.29,\n",
       " 'eggs': 5.69,\n",
       " 'peanut butter': 6.89,\n",
       " 'jelly': 4.78}"
      ]
     },
     "execution_count": 15,
     "metadata": {},
     "output_type": "execute_result"
    }
   ],
   "source": [
    "# Example shopping dictionary:\n",
    "\n",
    "shopping_cart = {\n",
    "    'bananas': 1.99,\n",
    "    'apples': 4.99,\n",
    "    'bread': 4.69,\n",
    "    'milk': 3.29,\n",
    "    'eggs': 5.69,\n",
    "    'peanut butter': 6.89,\n",
    "    'jelly': 4.78\n",
    "}\n",
    "\n",
    "shopping_cart"
   ]
  },
  {
   "cell_type": "code",
   "execution_count": 16,
   "id": "cb253c03",
   "metadata": {},
   "outputs": [
    {
     "name": "stdout",
     "output_type": "stream",
     "text": [
      "Please type the product you want to add: ice cream\n",
      "What is the price of ice cream?5.29\n"
     ]
    },
    {
     "data": {
      "text/plain": [
       "{'bananas': 1.99,\n",
       " 'apples': 4.99,\n",
       " 'bread': 4.69,\n",
       " 'milk': 3.29,\n",
       " 'eggs': 5.69,\n",
       " 'peanut butter': 6.89,\n",
       " 'jelly': 4.78,\n",
       " 'ice cream': 5.29}"
      ]
     },
     "execution_count": 16,
     "metadata": {},
     "output_type": "execute_result"
    }
   ],
   "source": [
    "# add items function\n",
    "\n",
    "def add_to_shopping(shopping_dict):\n",
    "    add_item = input(\"Please type the product you want to add: \")\n",
    "    item_price = input(f\"What is the price of {add_item}?\")\n",
    "    shopping_dict[add_item] = float(item_price)\n",
    "    \n",
    "add_to_shopping(shopping_cart)\n",
    "shopping_cart"
   ]
  },
  {
   "cell_type": "code",
   "execution_count": 17,
   "id": "9bd2b822",
   "metadata": {},
   "outputs": [
    {
     "name": "stdout",
     "output_type": "stream",
     "text": [
      "Here are the items on your shopping list:\n",
      "\n",
      "\tbananas\n",
      "\tapples\n",
      "\tbread\n",
      "\tmilk\n",
      "\teggs\n",
      "\tpeanut butter\n",
      "\tjelly\n",
      "\tice cream\n"
     ]
    }
   ],
   "source": [
    "# see current shopping list\n",
    "\n",
    "def current_shop_list(shopping_dict):\n",
    "    print(\"Here are the items on your shopping list:\\n\")\n",
    "    for key, value in shopping_dict.items():\n",
    "        print(f\"\\t{key}\")\n",
    "    \n",
    "current_shop_list(shopping_cart)"
   ]
  },
  {
   "cell_type": "code",
   "execution_count": 36,
   "id": "f2c175c1",
   "metadata": {},
   "outputs": [
    {
     "name": "stdout",
     "output_type": "stream",
     "text": [
      "Your cart:\n",
      "\n",
      "bananas          1.99\n",
      "apples           4.99\n",
      "bread            4.69\n",
      "milk             3.29\n",
      "eggs             5.69\n",
      "peanut butter    6.89\n",
      "jelly            4.78\n"
     ]
    }
   ],
   "source": [
    "# see current cart items with prices\n",
    "# I'd like to format this in a nicer way - like having all the prices lined up so it's easier to read...\n",
    "# see ideas below for how to print table/matrix from dictionary\n",
    "\n",
    "def current_cart(shopping_dict):\n",
    "    print(\"Your cart:\\n\")\n",
    "    for key, value in shopping_dict.items():\n",
    "#         print(f\"\\t{key} --- ${value}\")\n",
    "        print(key, \" \" * (15 - len(key)), str(value))\n",
    "\n",
    "        \n",
    "current_cart(shopping_cart)"
   ]
  },
  {
   "cell_type": "code",
   "execution_count": 30,
   "id": "162fb877",
   "metadata": {},
   "outputs": [
    {
     "name": "stdout",
     "output_type": "stream",
     "text": [
      "bananas <class 'str'>\n",
      "apples <class 'str'>\n",
      "bread <class 'str'>\n",
      "milk <class 'str'>\n",
      "eggs <class 'str'>\n",
      "peanut butter <class 'str'>\n",
      "jelly <class 'str'>\n",
      "dict_keys(['bananas', 'apples', 'bread', 'milk', 'eggs', 'peanut butter', 'jelly']) <class 'dict_keys'>\n"
     ]
    }
   ],
   "source": [
    "shopping_dict = shopping_cart\n",
    "for key in shopping_dict.keys():\n",
    "    print(key, type(key))\n",
    "# print(shopping_dict.keys(), type(shopping_dict.keys()))"
   ]
  },
  {
   "cell_type": "code",
   "execution_count": 34,
   "id": "9dd0e05c",
   "metadata": {},
   "outputs": [
    {
     "name": "stdout",
     "output_type": "stream",
     "text": [
      "bananas          1.99\n",
      "apples           4.99\n",
      "bread            4.69\n",
      "milk             3.29\n",
      "eggs             5.69\n",
      "peanut butter    6.89\n",
      "jelly            4.78\n"
     ]
    }
   ],
   "source": [
    "# print receipt with more legible spacing\n",
    "# the idea is to figure out the length (characters) of the value string,\n",
    "# subtract it from a set spacing length,\n",
    "# then add the difference in spacing before the price...\n",
    "\n",
    "# for the sake of this test ----\n",
    "\n",
    "shopping_dict = shopping_cart\n",
    "\n",
    "# print the name of the columns with set spacing distance\n",
    "# print(\"\\tITEM\", \" \"*15, \"PRICE\")\n",
    "# # get key list to print\n",
    "# item_list = shopping_dict.keys():\n",
    "\n",
    "# Iterate through the dictionary\n",
    "# to print the data.\n",
    "for key, value in shopping_dict.items():\n",
    "    print(key, \" \" * (15 - len(key)), str(value))\n",
    "#         print(key_name, \" \" * (15 - len(key_name)), value)\n",
    "# for key, value in shopping_cart.items():\n",
    "#     print(shopping_cart[key], end= ' ')\n",
    "\n",
    "   \n",
    "# for i in range(3):\n",
    "\t\n",
    "# \tfor j in range(3):\n",
    "# \t\tprint(dict1[(i, j)], end =' ')\n",
    "\t\t\n",
    "# \tprint()"
   ]
  },
  {
   "cell_type": "code",
   "execution_count": null,
   "id": "da3983c0",
   "metadata": {},
   "outputs": [],
   "source": [
    "# # print dictionary as table\n",
    "# # Define the dictionary\n",
    "# dict ={}\n",
    "\n",
    "# # Insert data into dictionary\n",
    "# dict1 = {1: [\"Samuel\", 21, 'Data Structures'],\n",
    "# \t2: [\"Richie\", 20, 'Machine Learning'],\n",
    "# \t3: [\"Lauren\", 21, 'OOPS with java'],\n",
    "# \t}\n",
    "\n",
    "# # Print the names of the columns.\n",
    "# print (\"{:<10} {:<10} {:<10}\".format('NAME', 'AGE', 'COURSE'))\n",
    "\n",
    "# # print each data item.\n",
    "# for key, value in dict1.items():\n",
    "# \tname, age, course = value\n",
    "# \tprint (\"{:<10} {:<10} {:<10}\".format(name, age, course))\n",
    "\n",
    "\n",
    "#----- USE MATRIX FORMAT -----#\n",
    "# define the dictionary\n",
    "dict1 = {}\n",
    "\n",
    "# insert data into dictionary\n",
    "dict1 = {(0, 0): 'Samuel', (0, 1): 21, (0, 2): 'Data structures',\n",
    "\t\t(1, 0): 'Richie', (1, 1): 20, (1, 2): 'Machine Learning',\n",
    "\t\t(2, 0): 'Lauren', (2, 1):21, (2, 2): 'OOPS with Java'\n",
    "}\n",
    "\n",
    "# print the name of the columns explicitly.\n",
    "print(\" NAME \", \" AGE \", \" COURSE \" )\n",
    "\n",
    "# Iterate through the dictionary\n",
    "# to print the data.\n",
    "for i in range(3):\n",
    "\t\n",
    "\tfor j in range(3):\n",
    "\t\tprint(dict1[(i, j)], end =' ')\n",
    "\t\t\n",
    "\tprint()\n",
    "\n",
    "    \n",
    "    \n",
    "    \n",
    "#----- USE ZIP -----#    \n",
    "    \n",
    "# # define the dictionary\n",
    "# dict1 = {}\n",
    "\n",
    "# # insert data into dictionary.\n",
    "# dict1 = {'NAME':['Samuel', 'Richie', 'Lauren'],\n",
    "# \t\t'AGE':[21, 20, 21],\n",
    "# \t\t'COURSE':['Data Structures', 'Machine Learning', 'OOPS with Java']}\n",
    "\n",
    "# # print the contents using zip format.\n",
    "# # **---This zips the list of keys ([i] is the enumerated list of keys from dict.items())\n",
    "# # **---with each key's value, which are all lists... \n",
    "# # **---Can only zip list with list\n",
    "# for each_row in zip(*([i] + (j)\n",
    "# \t\t\t\t\tfor i, j in dict1.items())):\n",
    "\t\n",
    "# \tprint(*each_row, \" \")\n"
   ]
  },
  {
   "cell_type": "code",
   "execution_count": 19,
   "id": "1955ae41",
   "metadata": {},
   "outputs": [
    {
     "name": "stdout",
     "output_type": "stream",
     "text": [
      "Please type the item to remove: ice cream\n",
      "Successfully removed ice cream from your list!\n"
     ]
    },
    {
     "data": {
      "text/plain": [
       "{'bananas': 1.99,\n",
       " 'apples': 4.99,\n",
       " 'bread': 4.69,\n",
       " 'milk': 3.29,\n",
       " 'eggs': 5.69,\n",
       " 'peanut butter': 6.89,\n",
       " 'jelly': 4.78}"
      ]
     },
     "execution_count": 19,
     "metadata": {},
     "output_type": "execute_result"
    }
   ],
   "source": [
    "# delete items from dictionary\n",
    "\n",
    "#  |  __delitem__(self, key, /)\n",
    "#  |      Delete self[key].\n",
    "\n",
    "def delete_item(shopping_cart):\n",
    "    delete_item = input(\"Please type the item to remove: \").lower()\n",
    "    popped_item = shopping_cart.pop(delete_item, None)\n",
    "    if popped_item != None:\n",
    "        print(f\"Successfully removed {delete_item} from your list!\")\n",
    "    else:\n",
    "        print(\"Sorry, that item was not found on your list.\\nTo search again, type 'delete' \")\n",
    "\n",
    "delete_item(shopping_cart)\n",
    "shopping_cart"
   ]
  },
  {
   "cell_type": "code",
   "execution_count": 2,
   "id": "99c238d2",
   "metadata": {},
   "outputs": [
    {
     "name": "stdout",
     "output_type": "stream",
     "text": [
      "Help on class dict in module builtins:\n",
      "\n",
      "class dict(object)\n",
      " |  dict() -> new empty dictionary\n",
      " |  dict(mapping) -> new dictionary initialized from a mapping object's\n",
      " |      (key, value) pairs\n",
      " |  dict(iterable) -> new dictionary initialized as if via:\n",
      " |      d = {}\n",
      " |      for k, v in iterable:\n",
      " |          d[k] = v\n",
      " |  dict(**kwargs) -> new dictionary initialized with the name=value pairs\n",
      " |      in the keyword argument list.  For example:  dict(one=1, two=2)\n",
      " |  \n",
      " |  Built-in subclasses:\n",
      " |      StgDict\n",
      " |  \n",
      " |  Methods defined here:\n",
      " |  \n",
      " |  __contains__(self, key, /)\n",
      " |      True if the dictionary has the specified key, else False.\n",
      " |  \n",
      " |  __delitem__(self, key, /)\n",
      " |      Delete self[key].\n",
      " |  \n",
      " |  __eq__(self, value, /)\n",
      " |      Return self==value.\n",
      " |  \n",
      " |  __ge__(self, value, /)\n",
      " |      Return self>=value.\n",
      " |  \n",
      " |  __getattribute__(self, name, /)\n",
      " |      Return getattr(self, name).\n",
      " |  \n",
      " |  __getitem__(...)\n",
      " |      x.__getitem__(y) <==> x[y]\n",
      " |  \n",
      " |  __gt__(self, value, /)\n",
      " |      Return self>value.\n",
      " |  \n",
      " |  __init__(self, /, *args, **kwargs)\n",
      " |      Initialize self.  See help(type(self)) for accurate signature.\n",
      " |  \n",
      " |  __ior__(self, value, /)\n",
      " |      Return self|=value.\n",
      " |  \n",
      " |  __iter__(self, /)\n",
      " |      Implement iter(self).\n",
      " |  \n",
      " |  __le__(self, value, /)\n",
      " |      Return self<=value.\n",
      " |  \n",
      " |  __len__(self, /)\n",
      " |      Return len(self).\n",
      " |  \n",
      " |  __lt__(self, value, /)\n",
      " |      Return self<value.\n",
      " |  \n",
      " |  __ne__(self, value, /)\n",
      " |      Return self!=value.\n",
      " |  \n",
      " |  __or__(self, value, /)\n",
      " |      Return self|value.\n",
      " |  \n",
      " |  __repr__(self, /)\n",
      " |      Return repr(self).\n",
      " |  \n",
      " |  __reversed__(self, /)\n",
      " |      Return a reverse iterator over the dict keys.\n",
      " |  \n",
      " |  __ror__(self, value, /)\n",
      " |      Return value|self.\n",
      " |  \n",
      " |  __setitem__(self, key, value, /)\n",
      " |      Set self[key] to value.\n",
      " |  \n",
      " |  __sizeof__(...)\n",
      " |      D.__sizeof__() -> size of D in memory, in bytes\n",
      " |  \n",
      " |  clear(...)\n",
      " |      D.clear() -> None.  Remove all items from D.\n",
      " |  \n",
      " |  copy(...)\n",
      " |      D.copy() -> a shallow copy of D\n",
      " |  \n",
      " |  get(self, key, default=None, /)\n",
      " |      Return the value for key if key is in the dictionary, else default.\n",
      " |  \n",
      " |  items(...)\n",
      " |      D.items() -> a set-like object providing a view on D's items\n",
      " |  \n",
      " |  keys(...)\n",
      " |      D.keys() -> a set-like object providing a view on D's keys\n",
      " |  \n",
      " |  pop(...)\n",
      " |      D.pop(k[,d]) -> v, remove specified key and return the corresponding value.\n",
      " |      \n",
      " |      If key is not found, default is returned if given, otherwise KeyError is raised\n",
      " |  \n",
      " |  popitem(self, /)\n",
      " |      Remove and return a (key, value) pair as a 2-tuple.\n",
      " |      \n",
      " |      Pairs are returned in LIFO (last-in, first-out) order.\n",
      " |      Raises KeyError if the dict is empty.\n",
      " |  \n",
      " |  setdefault(self, key, default=None, /)\n",
      " |      Insert key with a value of default if key is not in the dictionary.\n",
      " |      \n",
      " |      Return the value for key if key is in the dictionary, else default.\n",
      " |  \n",
      " |  update(...)\n",
      " |      D.update([E, ]**F) -> None.  Update D from dict/iterable E and F.\n",
      " |      If E is present and has a .keys() method, then does:  for k in E: D[k] = E[k]\n",
      " |      If E is present and lacks a .keys() method, then does:  for k, v in E: D[k] = v\n",
      " |      In either case, this is followed by: for k in F:  D[k] = F[k]\n",
      " |  \n",
      " |  values(...)\n",
      " |      D.values() -> an object providing a view on D's values\n",
      " |  \n",
      " |  ----------------------------------------------------------------------\n",
      " |  Class methods defined here:\n",
      " |  \n",
      " |  __class_getitem__(...) from builtins.type\n",
      " |      See PEP 585\n",
      " |  \n",
      " |  fromkeys(iterable, value=None, /) from builtins.type\n",
      " |      Create a new dictionary with keys from iterable and values set to value.\n",
      " |  \n",
      " |  ----------------------------------------------------------------------\n",
      " |  Static methods defined here:\n",
      " |  \n",
      " |  __new__(*args, **kwargs) from builtins.type\n",
      " |      Create and return a new object.  See help(type) for accurate signature.\n",
      " |  \n",
      " |  ----------------------------------------------------------------------\n",
      " |  Data and other attributes defined here:\n",
      " |  \n",
      " |  __hash__ = None\n",
      "\n"
     ]
    }
   ],
   "source": [
    "help(dict)"
   ]
  }
 ],
 "metadata": {
  "kernelspec": {
   "display_name": "Python 3 (ipykernel)",
   "language": "python",
   "name": "python3"
  },
  "language_info": {
   "codemirror_mode": {
    "name": "ipython",
    "version": 3
   },
   "file_extension": ".py",
   "mimetype": "text/x-python",
   "name": "python",
   "nbconvert_exporter": "python",
   "pygments_lexer": "ipython3",
   "version": "3.9.7"
  }
 },
 "nbformat": 4,
 "nbformat_minor": 5
}
