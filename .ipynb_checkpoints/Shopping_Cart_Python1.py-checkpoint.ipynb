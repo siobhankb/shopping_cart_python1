{
 "cells": [
  {
   "cell_type": "markdown",
   "id": "4a7e0267",
   "metadata": {},
   "source": [
    "### Build a shopping cart program with the following capabilities:\n",
    "\n",
    "1. Takes in an input\n",
    "2. Stores user input into a dictionary or list\n",
    "3. The User can add or delete items\n",
    "4. The User can see current shopping list\n",
    "5. The program Loops until user 'quits'\n",
    "6. Upon quiting the program, prints out a receipt of the items with total and quantity."
   ]
  },
  {
   "cell_type": "markdown",
   "id": "d1c55988",
   "metadata": {},
   "source": [
    "##### Notes from Brian:\n",
    "- use helper functions to simplify main function:\n",
    "    - make a function that adds\n",
    "    - make a function that removes\n",
    "    - make a function that shows the cart so far\n",
    "    - make a fuction that generates the final receipt (main function?)\n",
    "- can dress it up with nicer inputs, etc"
   ]
  },
  {
   "cell_type": "code",
   "execution_count": 124,
   "id": "1d574609",
   "metadata": {},
   "outputs": [],
   "source": [
    "# 1. Input(s): \n",
    "# 2. Output(s): \n",
    "# 3a. Constraints: \n",
    "# 3b. Edge cases:\n",
    "# 4. Steps\n",
    "# 5. Pseudocode\n",
    "# 6. Code"
   ]
  },
  {
   "cell_type": "code",
   "execution_count": 159,
   "id": "1efe435d",
   "metadata": {},
   "outputs": [
    {
     "data": {
      "text/plain": [
       "{'bananas': {'quantity': 1.0, 'price': 1.99},\n",
       " 'apples': {'quantity': 2.0, 'price': 4.99},\n",
       " 'bread': {'quantity': 1.0, 'price': 4.69},\n",
       " 'milk': {'quantity': 1.0, 'price': 3.29},\n",
       " 'eggs': {'quantity': 1.0, 'price': 5.89},\n",
       " 'peanut butter': {'quantity': 1.0, 'price': 6.99},\n",
       " 'jelly': {'quantity': 1.0, 'price': 4.59}}"
      ]
     },
     "execution_count": 159,
     "metadata": {},
     "output_type": "execute_result"
    }
   ],
   "source": [
    "# Example shopping dictionary:\n",
    "\n",
    "shopping_cart = {\n",
    "    'bananas': {\n",
    "        'quantity': 1.0,\n",
    "        'price': 1.99,\n",
    "    },\n",
    "    'apples': {\n",
    "        'quantity': 2.0,\n",
    "        'price': 4.99,\n",
    "    },\n",
    "    'bread': {\n",
    "        'quantity': 1.0,\n",
    "        'price': 4.69,\n",
    "    },\n",
    "    'milk': {\n",
    "        'quantity': 1.0,\n",
    "        'price': 3.29,\n",
    "    },\n",
    "    'eggs':{\n",
    "        'quantity': 1.0,\n",
    "        'price': 5.89,\n",
    "    },\n",
    "    'peanut butter': {\n",
    "        'quantity': 1.0,\n",
    "        'price': 6.99,\n",
    "    },\n",
    "    'jelly': {\n",
    "        'quantity': 1.0,\n",
    "        'price': 4.59,\n",
    "    }\n",
    "}\n",
    "\n",
    "shopping_cart"
   ]
  },
  {
   "cell_type": "code",
   "execution_count": 160,
   "id": "2588ca78",
   "metadata": {},
   "outputs": [],
   "source": [
    "# from Matt's solution:\n",
    "# allow user to tell the number of items\n",
    "# multiply the price by number of items\n"
   ]
  },
  {
   "cell_type": "code",
   "execution_count": 186,
   "id": "cb253c03",
   "metadata": {},
   "outputs": [],
   "source": [
    "# add items function\n",
    "from IPython.display import clear_output\n",
    "\n",
    "def add_to_shopping(shopping_dict):\n",
    "    add_item = input(\"\\nPlease type the product you want to add: \")\n",
    "\n",
    "    # from Brian:\n",
    "    # if that item is already in the dictionary, just ask for and update QUANTITY\n",
    "    if add_item + 's' in shopping_dict.keys():\n",
    "        add_item += 's'\n",
    "    if add_item in shopping_dict.keys():\n",
    "        try:\n",
    "            quantity_item = float(input(f\"Quantity of {add_item}(s) to add? \"))\n",
    "        except:\n",
    "            print(\"Sorry - invalid input.\\n \\\n",
    "            Please type a NUMBER for quantity.\\n\")\n",
    "            quantity_item = float(input(f\"Quantity of {add_item}(s)? \"))\n",
    "            \n",
    "        quantity_item += shopping_dict[add_item]['quantity']\n",
    "        \n",
    "    else:\n",
    "        try:\n",
    "            quantity_item = float(input(f\"Quantity of {add_item}(s)? \"))\n",
    "        except:\n",
    "            print(\"Sorry - invalid input.\\n \\\n",
    "            Please type a NUMBER for quantity.\\n\")\n",
    "            quantity_item = float(input(f\"Quantity of {add_item}(s)? \"))\n",
    "        try:\n",
    "            item_price = float(input(f\"\\nEnter price of {add_item}: \"))\n",
    "        except:\n",
    "            print(\"Sorry - invalid input.\\n \\\n",
    "            Please type a NUMBER for  price.\\n\")\n",
    "            item_price = float(input(f\"\\nEnter price of {add_item}: \"))\n",
    "            \n",
    "        shopping_dict[add_item] = {\n",
    "            'quantity':quantity_item,\n",
    "            'price':item_price\n",
    "        }\n",
    "    print(f\"{int(quantity_item)} {add_item.upper()}(s) added to your list!\")\n",
    "    return shopping_dict\n"
   ]
  },
  {
   "cell_type": "code",
   "execution_count": 187,
   "id": "21b207ec",
   "metadata": {},
   "outputs": [],
   "source": [
    "# # add items function\n",
    "# from IPython.display import clear_output\n",
    "\n",
    "# def add_to_shopping(shopping_dict):\n",
    "#     add_item = input(\"\\nPlease type the product you want to add: \")\n",
    "#     item_price = input(f\"\\nWhat is the price of {add_item}?\")\n",
    "#     try:\n",
    "#         shopping_dict[add_item] = [quantity_item, float(item_price)]\n",
    "#     except:\n",
    "#         print(\"Sorry - that is not a valid price.\")\n",
    "#     clear_output()\n",
    "#     return shopping_dict"
   ]
  },
  {
   "cell_type": "code",
   "execution_count": 188,
   "id": "cfdea5c5",
   "metadata": {},
   "outputs": [],
   "source": [
    "# see current shopping list\n",
    "\n",
    "def current_shop_list(shopping_dict):\n",
    "    if shopping_dict == {}:\n",
    "        print(\"Your list is empty! Please type 'ADD' to begin building your list...\")\n",
    "    else:\n",
    "        print(\"\\nHere are the items on your shopping list:\\n\")\n",
    "        for key, value in shopping_dict.items():\n",
    "            print(f\"\\t-{key} ({int(value['quantity'])})\")\n"
   ]
  },
  {
   "cell_type": "code",
   "execution_count": 189,
   "id": "decba3fe",
   "metadata": {},
   "outputs": [],
   "source": [
    "# #### see current cart items with prices\n",
    "\n",
    "# def current_cart(shopping_dict):\n",
    "#     total_cost = 0\n",
    "#     item_count = 0\n",
    "#     print(\n",
    "#         \"\\nYour cart:\\n\\nITEMS\", \" \" * 15, \"PRICE\")\n",
    "#     for key, value in shopping_dict.items():\n",
    "#         print(key, \" \" * (25 - (len(key) + len(str(value)))), value)\n",
    "#         total_cost += value\n",
    "#         item_count += 1\n",
    "#     print(\"\\nTotal Number of Items:\", \"  \", item_count)\n",
    "#     print(\"\\nTOTAL:\", \" \" * (18 - (len(str(int(total_cost))) + 3)), f\"${total_cost:.2f}\")"
   ]
  },
  {
   "cell_type": "code",
   "execution_count": 190,
   "id": "49626411",
   "metadata": {},
   "outputs": [],
   "source": [
    "#### see current cart items with prices\n",
    "\n",
    "def current_cart(shopping_dict):\n",
    "    total_cost = 0\n",
    "    item_count = 0\n",
    "    print(\n",
    "        \"\\nYour cart:\\n\\nITEMS\", \" \" * 15, \"PRICE\")\n",
    "    for key, value in shopping_dict.items():\n",
    "        item_cost = value['quantity'] * value['price']   \n",
    "        print(key, \" \" * (25 - (len(key) + len(str(item_cost)))), item_cost)\n",
    "        total_cost += item_cost\n",
    "        item_count += 1\n",
    "    print(\"\\nNumber of Items: \", item_count)\n",
    "    print(\"\\nTOTAL:\", \" \" * (18 - (len(str(int(total_cost))) + 3)), f\"${total_cost:.2f}\")\n"
   ]
  },
  {
   "cell_type": "code",
   "execution_count": 191,
   "id": "7940b006",
   "metadata": {},
   "outputs": [],
   "source": [
    "# # delete items from dictionary\n",
    "\n",
    "# def delete_item(shopping_dict):\n",
    "#     delete_item = input(\"\\nPlease type the item to remove: \").lower()\n",
    "#     popped_item = shopping_cart.pop(delete_item, None)\n",
    "#     if popped_item != None:\n",
    "#         print(f\"Successfully removed -> {delete_item} <- from your list!\")\n",
    "#     else:\n",
    "#         print(\"Sorry, that item was not found on your list.\")\n",
    "#     clear_output()\n",
    "#     return shopping_dict"
   ]
  },
  {
   "cell_type": "code",
   "execution_count": 192,
   "id": "a78dbe22",
   "metadata": {},
   "outputs": [],
   "source": [
    "# delete items from dictionary\n",
    "# with new feature to input quantity of items,\n",
    "# need to take in the quantity of items to delete\n",
    "\n",
    "def delete_item(shopping_dict):\n",
    "    current_shop_list(shopping_dict)\n",
    "    print(shopping_dict.keys())\n",
    "    delete_item = input(\"\\nPlease type the item to remove: \").lower()\n",
    "    while delete_item not in shopping_dict.keys():\n",
    "        if delete_item + 's' in shopping_dict.keys():\n",
    "            delete_item += 's'\n",
    "        elif delete_item.rstrip('s') in shopping_dict.keys():\n",
    "            delete_item = delete_item.rstrip('s')\n",
    "        else:\n",
    "            delete_item = input(\n",
    "            \"\\nItem not found in shopping list! Try again...\\n \\\n",
    "            Please type the item to remove: \").lower()\n",
    "\n",
    "    delete_num = int(input(f\"\\nHow many {delete_item}(s) would you like to remove? \"))\n",
    "    \n",
    "    while delete_num == shopping_dict[delete_item]['quantity']:\n",
    "        sure = input(f\"Are you sure you want to remove ALL {delete_item}(s) from your list? (y/n)  \").lower()\n",
    "        if sure == 'y':\n",
    "            break\n",
    "        elif sure == 'n':\n",
    "            delete_num = int(input(f\"\\nHow many {delete_item}(s) would you like to remove? \"))\n",
    "                \n",
    "    new_quantity = shopping_dict[delete_item]['quantity'] - delete_num\n",
    "    if new_quantity > 0:\n",
    "        shopping_dict[delete_item]['quantity'] = new_quantity\n",
    "        print(f\"Updated quantity of {delete_item}(s) to {int(new_quantity)}!\")\n",
    "    else:\n",
    "        del shopping_dict[delete_item]\n",
    "        print(f\"Removed {delete_item}(s) from shopping list!\")\n",
    "    \n",
    "    return shopping_dict"
   ]
  },
  {
   "cell_type": "code",
   "execution_count": 193,
   "id": "a17b492e",
   "metadata": {},
   "outputs": [
    {
     "name": "stdout",
     "output_type": "stream",
     "text": [
      "Thank you for using Shopping List Generator!\n",
      "\n",
      "Your cart:\n",
      "\n",
      "ITEMS                 PRICE\n",
      "milk                   6.49\n",
      "eggs                  11.36\n",
      "bread                 11.98\n",
      "cheese                 7.98\n",
      "\n",
      "Number of Items:  4\n",
      "\n",
      "TOTAL:               $37.81\n"
     ]
    },
    {
     "data": {
      "text/plain": [
       "{'milk': {'quantity': 1.0, 'price': 6.49},\n",
       " 'eggs': {'quantity': 2.0, 'price': 5.68},\n",
       " 'bread': {'quantity': 2.0, 'price': 5.99},\n",
       " 'cheese': {'quantity': 2.0, 'price': 3.99}}"
      ]
     },
     "execution_count": 193,
     "metadata": {},
     "output_type": "execute_result"
    }
   ],
   "source": [
    "def shopping_list(shopping_dict = None):\n",
    "    from IPython.display import clear_output\n",
    "    print(\"Welcome to Shopping List Generator!\")\n",
    "    todo = ''\n",
    "    if shopping_dict == None:\n",
    "        shopping_dict = {}\n",
    "    while todo != 'Q':\n",
    "        todo = input(\n",
    "        \"\\nTo add an item to your list, type 'ADD'\\n \\\n",
    "        To delete an item, type 'DELETE'\\n \\\n",
    "        To view your shopping list, type 'LIST'\\n \\\n",
    "        To view your cart with items and total cost, type 'CART'\\n \\\n",
    "        To clear your list and start again, type 'CLEAR'\\n \\\n",
    "        To end, type 'Q'\\n \\\n",
    "        What would you like to do?  \").upper()\n",
    "        clear_output()\n",
    "        if todo == 'Q':\n",
    "            print(\"Thank you for using Shopping List Generator!\")\n",
    "            break\n",
    "        elif todo == 'CLEAR':\n",
    "            shopping_dict = {}\n",
    "        elif todo == 'ADD':\n",
    "            add_to_shopping(shopping_dict)\n",
    "        elif todo == 'DELETE':\n",
    "            delete_item(shopping_dict)\n",
    "        elif todo == 'LIST':\n",
    "            current_shop_list(shopping_dict)\n",
    "        elif todo == 'CART':\n",
    "            current_cart(shopping_dict)\n",
    "        else:\n",
    "            print(\"I'm sorry - that is not a valid command.\")\n",
    "    \n",
    "    current_cart(shopping_dict)\n",
    "    return shopping_dict\n",
    "\n",
    "shopping_list()"
   ]
  },
  {
   "cell_type": "code",
   "execution_count": null,
   "id": "1a850fcf",
   "metadata": {},
   "outputs": [],
   "source": []
  }
 ],
 "metadata": {
  "kernelspec": {
   "display_name": "Python 3 (ipykernel)",
   "language": "python",
   "name": "python3"
  },
  "language_info": {
   "codemirror_mode": {
    "name": "ipython",
    "version": 3
   },
   "file_extension": ".py",
   "mimetype": "text/x-python",
   "name": "python",
   "nbconvert_exporter": "python",
   "pygments_lexer": "ipython3",
   "version": "3.9.7"
  }
 },
 "nbformat": 4,
 "nbformat_minor": 5
}
